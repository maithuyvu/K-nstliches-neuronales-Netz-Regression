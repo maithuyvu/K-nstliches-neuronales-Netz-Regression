{
 "cells": [
  {
   "cell_type": "code",
   "execution_count": 1,
   "metadata": {},
   "outputs": [],
   "source": [
    "import numpy as np\n",
    "import pandas as pd\n",
    "from pandas import ExcelFile\n",
    "import xlrd\n",
    "import matplotlib.pyplot as plt\n",
    "import seaborn as sns\n",
    "import sklearn"
   ]
  },
  {
   "cell_type": "code",
   "execution_count": 2,
   "metadata": {},
   "outputs": [],
   "source": [
    "# Der Boston Housing-Datensatz : die Wohnverhältnisse in 506 Gebieten von Boston \n",
    "# 13 stetige und eine binäre (Dummy-)Variable.\n",
    "# Die Dummy-Variable ( CHAS): entsprechende Gebiet direkt am Charles River liegt.\n",
    "# Der Median der Hauspreise pro Gebiet ist die abhängige Variable in der ursprünglichen Analyse.\n",
    "# MMEDV: die Mittelwerte des Houspreis in $1000'S\n",
    "# Crim: Kriminalitätsrate der Stadt, ZN: Anteil der Wohnungsstücke für Parzellen über 25000m²\n",
    "# Indus: Anteil der nicht Einzelhandelsgeschäfte pr Stadt,  CHAS:\n",
    "# NOX: Stickoxid konventration, RM: durschnittliche Anzahl der Zimmer pro Wohnung\n",
    "# AGE: Anteil der Eigenheime die vor 1940 gebaut wurden,  DIS: Entfernung zu Bostoner Arbeitsämtern\n",
    "# RAD: Index der Zugänglichkeit zu Radialstraßen, TAX: \n",
    "# PTRATIO: Schüler-Lehrer Verhältnis nach Stadt..."
   ]
  },
  {
   "cell_type": "code",
   "execution_count": 11,
   "metadata": {},
   "outputs": [
    {
     "name": "stdout",
     "output_type": "stream",
     "text": [
      "(507, 14)\n"
     ]
    }
   ],
   "source": [
    "h=pd.read_csv(\"boston_house_prices.csv\")\n",
    "print(h.shape)"
   ]
  },
  {
   "cell_type": "code",
   "execution_count": 12,
   "metadata": {},
   "outputs": [
    {
     "name": "stdout",
     "output_type": "stream",
     "text": [
      "         506    13 Unnamed: 2 Unnamed: 3 Unnamed: 4 Unnamed: 5 Unnamed: 6  \\\n",
      "0       CRIM    ZN      INDUS       CHAS        NOX         RM        AGE   \n",
      "1    0.00632    18       2.31          0      0.538      6.575       65.2   \n",
      "2    0.02731     0       7.07          0      0.469      6.421       78.9   \n",
      "3    0.02729     0       7.07          0      0.469      7.185       61.1   \n",
      "4    0.03237     0       2.18          0      0.458      6.998       45.8   \n",
      "5    0.06905     0       2.18          0      0.458      7.147       54.2   \n",
      "6    0.02985     0       2.18          0      0.458       6.43       58.7   \n",
      "7    0.08829  12.5       7.87          0      0.524      6.012       66.6   \n",
      "8    0.14455  12.5       7.87          0      0.524      6.172       96.1   \n",
      "9    0.21124  12.5       7.87          0      0.524      5.631        100   \n",
      "10   0.17004  12.5       7.87          0      0.524      6.004       85.9   \n",
      "11   0.22489  12.5       7.87          0      0.524      6.377       94.3   \n",
      "12   0.11747  12.5       7.87          0      0.524      6.009       82.9   \n",
      "13   0.09378  12.5       7.87          0      0.524      5.889         39   \n",
      "14   0.62976     0       8.14          0      0.538      5.949       61.8   \n",
      "15   0.63796     0       8.14          0      0.538      6.096       84.5   \n",
      "16   0.62739     0       8.14          0      0.538      5.834       56.5   \n",
      "17   1.05393     0       8.14          0      0.538      5.935       29.3   \n",
      "18    0.7842     0       8.14          0      0.538       5.99       81.7   \n",
      "19   0.80271     0       8.14          0      0.538      5.456       36.6   \n",
      "20    0.7258     0       8.14          0      0.538      5.727       69.5   \n",
      "21   1.25179     0       8.14          0      0.538       5.57       98.1   \n",
      "22   0.85204     0       8.14          0      0.538      5.965       89.2   \n",
      "23   1.23247     0       8.14          0      0.538      6.142       91.7   \n",
      "24   0.98843     0       8.14          0      0.538      5.813        100   \n",
      "25   0.75026     0       8.14          0      0.538      5.924       94.1   \n",
      "26   0.84054     0       8.14          0      0.538      5.599       85.7   \n",
      "27   0.67191     0       8.14          0      0.538      5.813       90.3   \n",
      "28   0.95577     0       8.14          0      0.538      6.047       88.8   \n",
      "29   0.77299     0       8.14          0      0.538      6.495       94.4   \n",
      "..       ...   ...        ...        ...        ...        ...        ...   \n",
      "477  4.87141     0       18.1          0      0.614      6.484       93.6   \n",
      "478  15.0234     0       18.1          0      0.614      5.304       97.3   \n",
      "479   10.233     0       18.1          0      0.614      6.185       96.7   \n",
      "480  14.3337     0       18.1          0      0.614      6.229         88   \n",
      "481  5.82401     0       18.1          0      0.532      6.242       64.7   \n",
      "482  5.70818     0       18.1          0      0.532       6.75       74.9   \n",
      "483  5.73116     0       18.1          0      0.532      7.061         77   \n",
      "484  2.81838     0       18.1          0      0.532      5.762       40.3   \n",
      "485  2.37857     0       18.1          0      0.583      5.871       41.9   \n",
      "486  3.67367     0       18.1          0      0.583      6.312       51.9   \n",
      "487  5.69175     0       18.1          0      0.583      6.114       79.8   \n",
      "488  4.83567     0       18.1          0      0.583      5.905       53.2   \n",
      "489  0.15086     0      27.74          0      0.609      5.454       92.7   \n",
      "490  0.18337     0      27.74          0      0.609      5.414       98.3   \n",
      "491  0.20746     0      27.74          0      0.609      5.093         98   \n",
      "492  0.10574     0      27.74          0      0.609      5.983       98.8   \n",
      "493  0.11132     0      27.74          0      0.609      5.983       83.5   \n",
      "494  0.17331     0       9.69          0      0.585      5.707         54   \n",
      "495  0.27957     0       9.69          0      0.585      5.926       42.6   \n",
      "496  0.17899     0       9.69          0      0.585       5.67       28.8   \n",
      "497   0.2896     0       9.69          0      0.585       5.39       72.9   \n",
      "498  0.26838     0       9.69          0      0.585      5.794       70.6   \n",
      "499  0.23912     0       9.69          0      0.585      6.019       65.3   \n",
      "500  0.17783     0       9.69          0      0.585      5.569       73.5   \n",
      "501  0.22438     0       9.69          0      0.585      6.027       79.7   \n",
      "502  0.06263     0      11.93          0      0.573      6.593       69.1   \n",
      "503  0.04527     0      11.93          0      0.573       6.12       76.7   \n",
      "504  0.06076     0      11.93          0      0.573      6.976         91   \n",
      "505  0.10959     0      11.93          0      0.573      6.794       89.3   \n",
      "506  0.04741     0      11.93          0      0.573       6.03       80.8   \n",
      "\n",
      "    Unnamed: 7 Unnamed: 8 Unnamed: 9 Unnamed: 10 Unnamed: 11 Unnamed: 12  \\\n",
      "0          DIS        RAD        TAX     PTRATIO           B       LSTAT   \n",
      "1         4.09          1        296        15.3       396.9        4.98   \n",
      "2       4.9671          2        242        17.8       396.9        9.14   \n",
      "3       4.9671          2        242        17.8      392.83        4.03   \n",
      "4       6.0622          3        222        18.7      394.63        2.94   \n",
      "5       6.0622          3        222        18.7       396.9        5.33   \n",
      "6       6.0622          3        222        18.7      394.12        5.21   \n",
      "7       5.5605          5        311        15.2       395.6       12.43   \n",
      "8       5.9505          5        311        15.2       396.9       19.15   \n",
      "9       6.0821          5        311        15.2      386.63       29.93   \n",
      "10      6.5921          5        311        15.2      386.71        17.1   \n",
      "11      6.3467          5        311        15.2      392.52       20.45   \n",
      "12      6.2267          5        311        15.2       396.9       13.27   \n",
      "13      5.4509          5        311        15.2       390.5       15.71   \n",
      "14      4.7075          4        307          21       396.9        8.26   \n",
      "15      4.4619          4        307          21      380.02       10.26   \n",
      "16      4.4986          4        307          21      395.62        8.47   \n",
      "17      4.4986          4        307          21      386.85        6.58   \n",
      "18      4.2579          4        307          21      386.75       14.67   \n",
      "19      3.7965          4        307          21      288.99       11.69   \n",
      "20      3.7965          4        307          21      390.95       11.28   \n",
      "21      3.7979          4        307          21      376.57       21.02   \n",
      "22      4.0123          4        307          21      392.53       13.83   \n",
      "23      3.9769          4        307          21       396.9       18.72   \n",
      "24      4.0952          4        307          21      394.54       19.88   \n",
      "25      4.3996          4        307          21      394.33        16.3   \n",
      "26      4.4546          4        307          21      303.42       16.51   \n",
      "27       4.682          4        307          21      376.88       14.81   \n",
      "28      4.4534          4        307          21      306.38       17.28   \n",
      "29      4.4547          4        307          21      387.94        12.8   \n",
      "..         ...        ...        ...         ...         ...         ...   \n",
      "477     2.3053         24        666        20.2      396.21       18.68   \n",
      "478     2.1007         24        666        20.2      349.48       24.91   \n",
      "479     2.1705         24        666        20.2       379.7       18.03   \n",
      "480     1.9512         24        666        20.2      383.32       13.11   \n",
      "481     3.4242         24        666        20.2       396.9       10.74   \n",
      "482     3.3317         24        666        20.2      393.07        7.74   \n",
      "483     3.4106         24        666        20.2      395.28        7.01   \n",
      "484     4.0983         24        666        20.2      392.92       10.42   \n",
      "485      3.724         24        666        20.2      370.73       13.34   \n",
      "486     3.9917         24        666        20.2      388.62       10.58   \n",
      "487     3.5459         24        666        20.2      392.68       14.98   \n",
      "488     3.1523         24        666        20.2      388.22       11.45   \n",
      "489     1.8209          4        711        20.1      395.09       18.06   \n",
      "490     1.7554          4        711        20.1      344.05       23.97   \n",
      "491     1.8226          4        711        20.1      318.43       29.68   \n",
      "492     1.8681          4        711        20.1      390.11       18.07   \n",
      "493     2.1099          4        711        20.1       396.9       13.35   \n",
      "494     2.3817          6        391        19.2       396.9       12.01   \n",
      "495     2.3817          6        391        19.2       396.9       13.59   \n",
      "496     2.7986          6        391        19.2      393.29        17.6   \n",
      "497     2.7986          6        391        19.2       396.9       21.14   \n",
      "498     2.8927          6        391        19.2       396.9        14.1   \n",
      "499     2.4091          6        391        19.2       396.9       12.92   \n",
      "500     2.3999          6        391        19.2      395.77        15.1   \n",
      "501     2.4982          6        391        19.2       396.9       14.33   \n",
      "502     2.4786          1        273          21      391.99        9.67   \n",
      "503     2.2875          1        273          21       396.9        9.08   \n",
      "504     2.1675          1        273          21       396.9        5.64   \n",
      "505     2.3889          1        273          21      393.45        6.48   \n",
      "506      2.505          1        273          21       396.9        7.88   \n",
      "\n",
      "    Unnamed: 13  \n",
      "0          MEDV  \n",
      "1            24  \n",
      "2          21.6  \n",
      "3          34.7  \n",
      "4          33.4  \n",
      "5          36.2  \n",
      "6          28.7  \n",
      "7          22.9  \n",
      "8          27.1  \n",
      "9          16.5  \n",
      "10         18.9  \n",
      "11           15  \n",
      "12         18.9  \n",
      "13         21.7  \n",
      "14         20.4  \n",
      "15         18.2  \n",
      "16         19.9  \n",
      "17         23.1  \n",
      "18         17.5  \n",
      "19         20.2  \n",
      "20         18.2  \n",
      "21         13.6  \n",
      "22         19.6  \n",
      "23         15.2  \n",
      "24         14.5  \n",
      "25         15.6  \n",
      "26         13.9  \n",
      "27         16.6  \n",
      "28         14.8  \n",
      "29         18.4  \n",
      "..          ...  \n",
      "477        16.7  \n",
      "478          12  \n",
      "479        14.6  \n",
      "480        21.4  \n",
      "481          23  \n",
      "482        23.7  \n",
      "483          25  \n",
      "484        21.8  \n",
      "485        20.6  \n",
      "486        21.2  \n",
      "487        19.1  \n",
      "488        20.6  \n",
      "489        15.2  \n",
      "490           7  \n",
      "491         8.1  \n",
      "492        13.6  \n",
      "493        20.1  \n",
      "494        21.8  \n",
      "495        24.5  \n",
      "496        23.1  \n",
      "497        19.7  \n",
      "498        18.3  \n",
      "499        21.2  \n",
      "500        17.5  \n",
      "501        16.8  \n",
      "502        22.4  \n",
      "503        20.6  \n",
      "504        23.9  \n",
      "505          22  \n",
      "506        11.9  \n",
      "\n",
      "[507 rows x 14 columns]\n"
     ]
    }
   ],
   "source": [
    "print(h)"
   ]
  },
  {
   "cell_type": "code",
   "execution_count": 13,
   "metadata": {},
   "outputs": [],
   "source": [
    "from sklearn import datasets\n",
    "h1=datasets.load_boston()\n",
    "X, y = h1.data, h1.target"
   ]
  },
  {
   "cell_type": "code",
   "execution_count": null,
   "metadata": {},
   "outputs": [],
   "source": []
  },
  {
   "cell_type": "code",
   "execution_count": 14,
   "metadata": {},
   "outputs": [],
   "source": [
    "from sklearn.model_selection import  train_test_split\n",
    "X_train, X_test, y_train, y_test = train_test_split (X,y, test_size=0.10) \n",
    "\n",
    "from sklearn.preprocessing import StandardScaler\n",
    "s = StandardScaler()\n",
    "#nur für Trainingdaten\n",
    "s.fit_transform(X_train) \n",
    "# Anwendung der Transformationen auf die Daten\n",
    "X_train_std = s.fit_transform(X_train)\n",
    "X_test_std = s.fit_transform(X_test)\n",
    "\n"
   ]
  },
  {
   "cell_type": "code",
   "execution_count": 15,
   "metadata": {},
   "outputs": [
    {
     "data": {
      "text/plain": [
       "MLPRegressor(activation='relu', alpha=0.0001, batch_size='auto', beta_1=0.9,\n",
       "       beta_2=0.999, early_stopping=False, epsilon=1e-08,\n",
       "       hidden_layer_sizes=(10,), learning_rate='constant',\n",
       "       learning_rate_init=0.001, max_iter=2000, momentum=0.9,\n",
       "       nesterovs_momentum=True, power_t=0.5, random_state=None,\n",
       "       shuffle=True, solver='adam', tol=0.0001, validation_fraction=0.1,\n",
       "       verbose=False, warm_start=False)"
      ]
     },
     "execution_count": 15,
     "metadata": {},
     "output_type": "execute_result"
    }
   ],
   "source": [
    "from sklearn.neural_network import MLPRegressor\n",
    "mlp= MLPRegressor (hidden_layer_sizes =(10,), max_iter=2000)\n",
    "mlp.fit(X_train_std, y_train)"
   ]
  },
  {
   "cell_type": "code",
   "execution_count": 16,
   "metadata": {},
   "outputs": [
    {
     "name": "stdout",
     "output_type": "stream",
     "text": [
      "    Actual  Predicted\n",
      "0      9.6  11.856229\n",
      "1     31.1  29.344065\n",
      "2     43.1  32.392924\n",
      "3     50.0  39.042052\n",
      "4     20.3  20.670449\n",
      "5     27.5  29.035479\n",
      "6     21.0  18.503518\n",
      "7     23.3  22.360782\n",
      "8     18.5  23.777225\n",
      "9     45.4  37.767865\n",
      "10    37.0  26.851988\n",
      "11    21.2  20.737754\n",
      "12    16.7  17.365758\n",
      "13    25.0  24.739936\n",
      "14    27.0  39.035054\n",
      "15    19.4  16.214593\n",
      "16    13.9  14.631149\n",
      "17    23.0  20.321469\n",
      "18    12.6  15.332186\n",
      "19    20.6  22.384113\n",
      "20    50.0  39.742263\n",
      "21    16.6  16.271764\n",
      "22    13.3  11.733205\n",
      "23    21.2  22.469191\n",
      "24    33.2  31.157761\n",
      "25    33.8  29.807126\n",
      "26    25.0  28.925345\n",
      "27    20.2  17.510547\n",
      "28    17.8  16.303685\n",
      "29    19.3  19.526411\n",
      "30    24.8  22.759759\n",
      "31     5.0   7.211270\n",
      "32    16.7  18.404986\n",
      "33    18.2  17.278168\n",
      "34    50.0  36.477940\n",
      "35    25.0  21.735367\n",
      "36    25.2  24.039594\n",
      "37    36.2  27.936902\n",
      "38    23.2  21.351345\n",
      "39    48.5  38.961163\n",
      "40    13.6  16.945053\n",
      "41    13.4  11.379519\n",
      "42    44.0  33.410613\n",
      "43    19.5  20.894188\n",
      "44    18.7  21.046127\n",
      "45    32.2  28.540808\n",
      "46     8.3  10.086506\n",
      "47    13.8  11.702794\n",
      "48    21.9  43.872767\n",
      "49    24.3  19.787410\n",
      "50    10.9  13.537383\n"
     ]
    },
    {
     "data": {
      "image/png": "[encoded data removed]",
      "text/plain": [
       "<Figure size 432x288 with 1 Axes>"
      ]
     },
     "metadata": {},
     "output_type": "display_data"
    }
   ],
   "source": [
    "p1=mlp.predict(X_test_std)\n",
    "df=pd.DataFrame({\"Actual\": np.array(y_test).flatten(), \"Predicted\":p1})\n",
    "print(df)\n",
    "sns.set()\n",
    "sns.kdeplot(df[\"Actual\"], color=\"b\")\n",
    "sns.kdeplot(df[\"Predicted\"], color=\"orange\")\n",
    "plt.show()"
   ]
  },
  {
   "cell_type": "code",
   "execution_count": 19,
   "metadata": {},
   "outputs": [],
   "source": [
    "# score= Bestimmtheismaß = R² =1- (Sum (y_true -y_predict)²)/ (sum(y_true - y_true.mean())²)"
   ]
  },
  {
   "cell_type": "code",
   "execution_count": 17,
   "metadata": {},
   "outputs": [
    {
     "name": "stdout",
     "output_type": "stream",
     "text": [
      "0.7248029704722498\n"
     ]
    }
   ],
   "source": [
    "score=mlp.score(X_test_std, y_test)\n",
    "print(score)"
   ]
  },
  {
   "cell_type": "code",
   "execution_count": 18,
   "metadata": {},
   "outputs": [
    {
     "name": "stdout",
     "output_type": "stream",
     "text": [
      "1571\n"
     ]
    }
   ],
   "source": [
    "print(mlp.n_iter_)"
   ]
  },
  {
   "cell_type": "code",
   "execution_count": null,
   "metadata": {},
   "outputs": [],
   "source": [
    "from sklearn.model_selection import GridSearchCV\n",
    "\n",
    "parameters ={\"activation\":[\"identity\", \"logistic\", \"tanh\", \"relu\"],\n",
    "             \"solver\":[\"lbfgs\", \"sgd\", \"adam\"],\n",
    "             \"alpha\":[0.001, 0.01, 0.1, 1, 10, 100],\n",
    "             \"learning_rate\":[\"constant\", \"invscaling\", \"adaptive\"]}\n",
    "GS=GridSearchCV(estimator= MLPRegressor( hidden_layer_sizes= (10,), max_iter=10000, random_state=1, early_stopping= True),\n",
    "                 param_grid=parameters)\n",
    "GS.fit(X_train_std, y_train)"
   ]
  },
  {
   "cell_type": "code",
   "execution_count": null,
   "metadata": {},
   "outputs": [],
   "source": [
    "print(GS.best_params_)"
   ]
  },
  {
   "cell_type": "code",
   "execution_count": null,
   "metadata": {},
   "outputs": [],
   "source": [
    "print(GS.best_score_)  # Score für X_train, y_train"
   ]
  },
  {
   "cell_type": "code",
   "execution_count": null,
   "metadata": {},
   "outputs": [],
   "source": [
    "print(GS.best_estimator_.score(X_test_std, y_test))"
   ]
  },
  {
   "cell_type": "code",
   "execution_count": 17,
   "metadata": {},
   "outputs": [
    {
     "data": {
      "text/plain": [
       "RandomizedSearchCV(cv=None, error_score='raise',\n",
       "          estimator=MLPRegressor(activation='relu', alpha=0.0001, batch_size='auto', beta_1=0.9,\n",
       "       beta_2=0.999, early_stopping=True, epsilon=1e-08,\n",
       "       hidden_layer_sizes=(20,), learning_rate='constant',\n",
       "       learning_rate_init=0.001, max_iter=10000, momentum=0.9,\n",
       "       nesterovs_momentum=True, power_t=0.5, random_state=1, shuffle=True,\n",
       "       solver='adam', tol=0.0001, validation_fraction=0.1, verbose=False,\n",
       "       warm_start=False),\n",
       "          fit_params=None, iid=True, n_iter=20, n_jobs=1,\n",
       "          param_distributions={'activation': ['identity', 'logistic', 'tanh', 'relu'], 'solver': ['lbfgs', 'sgd', 'adam'], 'alpha': [0.001, 0.01, 0.1, 1, 10, 100], 'learning_rate': ['constant', 'invscaling', 'adaptive']},\n",
       "          pre_dispatch='2*n_jobs', random_state=None, refit=True,\n",
       "          return_train_score='warn', scoring=None, verbose=0)"
      ]
     },
     "execution_count": 17,
     "metadata": {},
     "output_type": "execute_result"
    }
   ],
   "source": [
    "from sklearn.model_selection import RandomizedSearchCV\n",
    "params= {\"activation\":[\"identity\", \"logistic\", \"tanh\", \"relu\"],\n",
    "             \"solver\":[\"lbfgs\", \"sgd\", \"adam\"],\n",
    "             \"alpha\":[0.001, 0.01, 0.1, 1, 10, 100],\n",
    "             \"learning_rate\":[\"constant\", \"invscaling\", \"adaptive\"]}\n",
    "RS= RandomizedSearchCV (estimator=MLPRegressor( hidden_layer_sizes= (20,), max_iter=10000, random_state=1, early_stopping= True),\n",
    "                 param_distributions=params, n_iter=20)\n",
    "RS.fit(X_train_std, y_train)"
   ]
  },
  {
   "cell_type": "code",
   "execution_count": 19,
   "metadata": {},
   "outputs": [
    {
     "name": "stdout",
     "output_type": "stream",
     "text": [
      "{'solver': 'lbfgs', 'learning_rate': 'constant', 'alpha': 100, 'activation': 'tanh'}\n"
     ]
    }
   ],
   "source": [
    "print(RS.best_params_)"
   ]
  },
  {
   "cell_type": "code",
   "execution_count": 20,
   "metadata": {},
   "outputs": [
    {
     "name": "stdout",
     "output_type": "stream",
     "text": [
      "0.8108310040188204\n"
     ]
    }
   ],
   "source": [
    "print(RS.best_score_)"
   ]
  },
  {
   "cell_type": "code",
   "execution_count": 21,
   "metadata": {},
   "outputs": [
    {
     "name": "stdout",
     "output_type": "stream",
     "text": [
      "0.7626961601783737\n"
     ]
    }
   ],
   "source": [
    "print(RS.best_estimator_.score(X_test_std, y_test))"
   ]
  }
 ],
 "metadata": {
  "kernelspec": {
   "display_name": "Python 3",
   "language": "python",
   "name": "python3"
  },
  "language_info": {
   "codemirror_mode": {
    "name": "ipython",
    "version": 3
   },
   "file_extension": ".py",
   "mimetype": "text/x-python",
   "name": "python",
   "nbconvert_exporter": "python",
   "pygments_lexer": "ipython3",
   "version": "3.6.4"
  }
 },
 "nbformat": 4,
 "nbformat_minor": 2
}
